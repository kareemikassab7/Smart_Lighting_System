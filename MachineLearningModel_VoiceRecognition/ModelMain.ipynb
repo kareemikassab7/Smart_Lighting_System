{
 "cells": [
  {
   "cell_type": "code",
   "execution_count": 1,
   "metadata": {},
   "outputs": [],
   "source": [
    "import socket\n",
    "import pyaudio\n",
    "import bluetooth, subprocess\n",
    "\n",
    "import speech_recognition as sr\n",
    "import pyttsx3\n",
    "import time\n",
    "\n",
    "\n",
    "import sounddevice as sd\n",
    "import numpy as np\n",
    "import scipy.signal\n",
    "import timeit\n",
    "import python_speech_features\n",
    "import tensorflow as tf"
   ]
  },
  {
   "cell_type": "code",
   "execution_count": 2,
   "metadata": {},
   "outputs": [
    {
     "name": "stdout",
     "output_type": "stream",
     "text": [
      "found 3 devices\n",
      "  FC:58:FA:B0:81:8F - TaoTronics SoundSurge 85\n",
      "  41:42:8A:B7:FE:2A - BT\n",
      "  95:05:BB:28:09:04 - Soundcore Life Q20\n"
     ]
    }
   ],
   "source": [
    "#import socket\n",
    "name = 'HC-05'      # Device name\n",
    "addr = '34:03:de:33:f8:9d'      # Device Address\n",
    "port = 3         # RFCOMM port \n",
    " \n",
    "nearby_devices = bluetooth.discover_devices(duration=5, lookup_names=True)\n",
    "print('found %d devices' %len(nearby_devices))\n",
    " \n",
    "for addr, name in nearby_devices:\n",
    "    print('  %s - %s' %(addr, name))"
   ]
  },
  {
   "cell_type": "code",
   "execution_count": 3,
   "metadata": {},
   "outputs": [
    {
     "ename": "TimeoutError",
     "evalue": "[WinError 10060] A connection attempt failed because the connected party did not properly respond after a period of time, or established connection failed because connected host has failed to respond",
     "output_type": "error",
     "traceback": [
      "\u001b[1;31m---------------------------------------------------------------------------\u001b[0m",
      "\u001b[1;31mTimeoutError\u001b[0m                              Traceback (most recent call last)",
      "\u001b[1;32mC:\\Users\\ABDELR~1\\AppData\\Local\\Temp/ipykernel_21392/2191051281.py\u001b[0m in \u001b[0;36m<module>\u001b[1;34m\u001b[0m\n\u001b[0;32m      2\u001b[0m \u001b[0mport\u001b[0m \u001b[1;33m=\u001b[0m \u001b[1;36m1\u001b[0m  \u001b[1;31m# Match the setting on the HC-05 module\u001b[0m\u001b[1;33m\u001b[0m\u001b[1;33m\u001b[0m\u001b[0m\n\u001b[0;32m      3\u001b[0m \u001b[0ms\u001b[0m \u001b[1;33m=\u001b[0m \u001b[0msocket\u001b[0m\u001b[1;33m.\u001b[0m\u001b[0msocket\u001b[0m\u001b[1;33m(\u001b[0m\u001b[0msocket\u001b[0m\u001b[1;33m.\u001b[0m\u001b[0mAF_BLUETOOTH\u001b[0m\u001b[1;33m,\u001b[0m \u001b[0msocket\u001b[0m\u001b[1;33m.\u001b[0m\u001b[0mSOCK_STREAM\u001b[0m\u001b[1;33m,\u001b[0m \u001b[0msocket\u001b[0m\u001b[1;33m.\u001b[0m\u001b[0mBTPROTO_RFCOMM\u001b[0m\u001b[1;33m)\u001b[0m\u001b[1;33m\u001b[0m\u001b[1;33m\u001b[0m\u001b[0m\n\u001b[1;32m----> 4\u001b[1;33m \u001b[0ms\u001b[0m\u001b[1;33m.\u001b[0m\u001b[0mconnect\u001b[0m\u001b[1;33m(\u001b[0m\u001b[1;33m(\u001b[0m\u001b[0mserverMACAddress\u001b[0m\u001b[1;33m,\u001b[0m\u001b[0mport\u001b[0m\u001b[1;33m)\u001b[0m\u001b[1;33m)\u001b[0m\u001b[1;33m\u001b[0m\u001b[1;33m\u001b[0m\u001b[0m\n\u001b[0m",
      "\u001b[1;31mTimeoutError\u001b[0m: [WinError 10060] A connection attempt failed because the connected party did not properly respond after a period of time, or established connection failed because connected host has failed to respond"
     ]
    }
   ],
   "source": [
    "serverMACAddress = '00:21:09:00:31:30'  # Put your HC-05 address here\n",
    "port = 1  # Match the setting on the HC-05 module\n",
    "s = socket.socket(socket.AF_BLUETOOTH, socket.SOCK_STREAM, socket.BTPROTO_RFCOMM)\n",
    "s.connect((serverMACAddress,port))"
   ]
  },
  {
   "cell_type": "code",
   "execution_count": null,
   "metadata": {},
   "outputs": [],
   "source": [
    "def send_bl(text):\n",
    "    s.send(bytes(text, 'UTF-8'))\n",
    "    s.send(bytes(text, 'UTF-8'))"
   ]
  },
  {
   "cell_type": "markdown",
   "metadata": {},
   "source": [
    "# Speech-to-text API"
   ]
  },
  {
   "cell_type": "code",
   "execution_count": null,
   "metadata": {},
   "outputs": [],
   "source": [
    "def give_com(MyText):\n",
    "    if MyText=='on':\n",
    "        send_bl('ON')\n",
    "        send_bl('ON')\n",
    "\n",
    "    elif MyText=='off' or MyText=='of':\n",
    "        send_bl('OF')\n",
    "        send_bl('OF')\n",
    "    elif MyText=='go':\n",
    "        send_bl('GO')\n",
    "        send_bl('GO')\n",
    "    elif MyText=='up' or MyText=='ub':\n",
    "        send_bl('UP')\n",
    "        send_bl('UP')\n",
    "    elif MyText=='down' or MyText=='dawn':\n",
    "        send_bl('DN')\n",
    "        send_bl('DN')\n",
    "\n",
    "    else:\n",
    "        send_bl('S')"
   ]
  },
  {
   "cell_type": "code",
   "execution_count": 4,
   "metadata": {},
   "outputs": [],
   "source": [
    "r = sr.Recognizer()\n",
    "m=sr.Microphone()"
   ]
  },
  {
   "cell_type": "code",
   "execution_count": null,
   "metadata": {},
   "outputs": [
    {
     "name": "stdout",
     "output_type": "stream",
     "text": [
      "Please Say Something:\n",
      "You said on   ##############\n",
      "Please Say Something:\n",
      "You said off   ##############\n",
      "Please Say Something:\n",
      "You said tell me the news   ##############\n",
      "Please Say Something:\n",
      "You said the gallop   ##############\n",
      "Please Say Something:\n",
      "You said set an alarm   ##############\n",
      "Please Say Something:\n"
     ]
    }
   ],
   "source": [
    "while(1):\n",
    "        with m as source2:\n",
    "            print('Please Say Something:')\n",
    "            t=time.time()\n",
    "            r.adjust_for_ambient_noise(source2, duration=0.8)\n",
    "            while 1:\n",
    "                try:\n",
    "                    audio2=r.record(source2, duration=4)\n",
    "                    MyText = r.recognize_google(audio2)\n",
    "                    MyText = MyText.lower()\n",
    "                    break\n",
    "                except:\n",
    "                    pass\n",
    "\n",
    "            print(\"You said \"+MyText+\"   ##############\")"
   ]
  },
  {
   "cell_type": "code",
   "execution_count": null,
   "metadata": {},
   "outputs": [],
   "source": []
  },
  {
   "cell_type": "code",
   "execution_count": null,
   "metadata": {},
   "outputs": [],
   "source": []
  },
  {
   "cell_type": "markdown",
   "metadata": {},
   "source": [
    "## Connect The Output"
   ]
  },
  {
   "cell_type": "code",
   "execution_count": null,
   "metadata": {},
   "outputs": [],
   "source": [
    "debug_time = 1\n",
    "debug_acc = 0\n",
    "led_pin = 8\n",
    "word_threshold = 0.5\n",
    "rec_duration = 0.5\n",
    "window_stride = 2\n",
    "sample_rate = 48000\n",
    "resample_rate = 8000\n",
    "num_channels = 1\n",
    "num_mfcc = 16\n",
    "model_path = 'speech_model.h5'\n",
    "model=tf.keras.models.load_model(model_path)\n",
    "window = np.zeros(int(rec_duration * resample_rate) * 2)\n",
    "\n",
    "def decimate(signal, old_fs, new_fs):\n",
    "    if new_fs > old_fs:\n",
    "        print(\"Error: target sample rate higher than original\")\n",
    "        return signal, old_fs    \n",
    "    dec_factor = old_fs / new_fs\n",
    "    if not dec_factor.is_integer():\n",
    "        print(\"Error: can only decimate by integer factor\")\n",
    "        return signal, old_fs\n",
    "    resampled_signal = scipy.signal.decimate(signal, int(dec_factor))\n",
    "    return resampled_signal, new_fs\n",
    "\n",
    "\n",
    "def sd_callback(rec, frames, time, status):\n",
    "    \n",
    "    start = timeit.default_timer()    \n",
    "    sd.play(rec)\n",
    "\n",
    "    \n",
    "    if status:\n",
    "        print('Error:', status)\n",
    "\n",
    "    rec = np.squeeze(rec)\n",
    "    rec, new_fs = decimate(rec, sample_rate, resample_rate)    \n",
    "    window[:len(window)//2] = window[len(window)//2:]\n",
    "    window[len(window)//2:] = rec\n",
    "    mfccs = python_speech_features.base.mfcc(window, \n",
    "                                        samplerate=new_fs,\n",
    "                                        winlen=0.256,\n",
    "                                        winstep=0.050,\n",
    "                                        numcep=num_mfcc,\n",
    "                                        nfilt=26,\n",
    "                                        nfft=2048,\n",
    "                                        preemph=0.0,\n",
    "                                        ceplifter=0,\n",
    "                                        appendEnergy=False,\n",
    "                                        winfunc=np.hanning)\n",
    "    mfccs = mfccs.transpose()\n",
    "    in_tensor = np.float32(mfccs.reshape(1, mfccs.shape[0], mfccs.shape[1], 1))\n",
    "    preds=model.predict(in_tensor,verbose=False)\n",
    "    print(\"You said \"+np.argmax(preds.ravel()+\"   ##############\"))"
   ]
  },
  {
   "cell_type": "code",
   "execution_count": null,
   "metadata": {},
   "outputs": [],
   "source": [
    "with sd.InputStream(channels=num_channels,\n",
    "                    samplerate=sample_rate,\n",
    "                    blocksize=int(sample_rate * rec_duration),\n",
    "                    callback=sd_callback):\n",
    "    while True:\n",
    "        pass"
   ]
  },
  {
   "cell_type": "code",
   "execution_count": null,
   "metadata": {},
   "outputs": [
    {
     "name": "stdout",
     "output_type": "stream",
     "text": [
      "Please Say Something:\n",
      "<speech_recognition.AudioData object at 0x0000024D26E21370>\n",
      "repeat\n",
      "<speech_recognition.AudioData object at 0x0000024D26E21E50>\n",
      "repeat\n",
      "<speech_recognition.AudioData object at 0x0000024D26E21790>\n",
      "repeat\n",
      "<speech_recognition.AudioData object at 0x0000024D26E21610>\n",
      "repeat\n",
      "repeat\n",
      "<speech_recognition.AudioData object at 0x0000024D26E21790>\n",
      "repeat\n"
     ]
    }
   ],
   "source": [
    "while(1):\n",
    "        with m as source2:\n",
    "            print('Please Say Something:')\n",
    "            t=time.time()\n",
    "            r.adjust_for_ambient_noise(source2, duration=0.8)\n",
    "            while 1:\n",
    "                try:\n",
    "                    audio2=r.record(source2, duration=4)\n",
    "                    print(audio2)\n",
    "                    MyText = MyText.lower()\n",
    "                    break\n",
    "                except:\n",
    "                    print('repeat')\n",
    "                    \n",
    "            time.sleep(0.3)\n",
    "            print(\"You said \"+MyText+\"   ##############\")"
   ]
  },
  {
   "cell_type": "code",
   "execution_count": null,
   "metadata": {},
   "outputs": [],
   "source": []
  }
 ],
 "metadata": {
  "kernelspec": {
   "display_name": "Python 3 (ipykernel)",
   "language": "python",
   "name": "python3"
  },
  "language_info": {
   "codemirror_mode": {
    "name": "ipython",
    "version": 3
   },
   "file_extension": ".py",
   "mimetype": "text/x-python",
   "name": "python",
   "nbconvert_exporter": "python",
   "pygments_lexer": "ipython3",
   "version": "3.9.7"
  },
  "vscode": {
   "interpreter": {
    "hash": "25034407fed5d681614dac11a1c0537e8cb49e3a8883c071303eea01322943d9"
   }
  }
 },
 "nbformat": 4,
 "nbformat_minor": 4
}
