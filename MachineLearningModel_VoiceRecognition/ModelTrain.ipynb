{
  "cells": [
    {
      "cell_type": "code",
      "execution_count": 1,
      "metadata": {
        "id": "8b8Zj_ToR0AA"
      },
      "outputs": [],
      "source": [
        "from os import listdir\n",
        "from os.path import isdir, join\n",
        "from tensorflow.keras import layers, models\n",
        "import numpy as np"
      ]
    },
    {
      "cell_type": "code",
      "execution_count": 2,
      "metadata": {
        "id": "Iyb-TFGOSCvt"
      },
      "outputs": [],
      "source": [
        "all_targets = ['seven', 'eight', 'tree', 'no', 'off', 'four', 'right', 'happy', 'one', 'marvin', 'bird', 'wow', 'stop', 'dog', 'up', 'two', 'on', 'backward', 'nine', 'go', 'zero', 'three', 'six', 'left', 'learn', 'five', 'follow', 'sheila', 'house', 'bed', 'visual', 'cat', 'forward', 'down', 'yes']"
      ]
    },
    {
      "cell_type": "code",
      "execution_count": 3,
      "metadata": {
        "id": "Zm_cGhckSFsc"
      },
      "outputs": [],
      "source": [
        "feature_sets_path = './'\n",
        "feature_sets_filename = 'all_targets_mfcc_sets.npz'\n",
        "model_filename = 'speech_model.h5'"
      ]
    },
    {
      "cell_type": "code",
      "execution_count": 4,
      "metadata": {
        "colab": {
          "base_uri": "https://localhost:8080/"
        },
        "id": "g0qzwu6zSHgI",
        "outputId": "850738bc-74aa-4324-ae53-dee384e47bad"
      },
      "outputs": [
        {
          "name": "stdout",
          "output_type": "stream",
          "text": [
            "['x_train', 'y_train', 'x_val', 'y_val', 'x_test', 'y_test']\n"
          ]
        }
      ],
      "source": [
        "# Load feature sets\n",
        "feature_sets = np.load(join(feature_sets_path, feature_sets_filename), allow_pickle=True)\n",
        "print(feature_sets.files)"
      ]
    },
    {
      "cell_type": "code",
      "execution_count": 5,
      "metadata": {
        "id": "KVbhie-JSLhI"
      },
      "outputs": [],
      "source": [
        "# Assign feature sets\n",
        "x_train = feature_sets['x_train']\n",
        "y_train = feature_sets['y_train']\n",
        "x_val = feature_sets['x_val']\n",
        "y_val = feature_sets['y_val']\n",
        "x_test = feature_sets['x_test']\n",
        "y_test = feature_sets['y_test']"
      ]
    },
    {
      "cell_type": "code",
      "execution_count": 6,
      "metadata": {
        "colab": {
          "base_uri": "https://localhost:8080/"
        },
        "id": "WIMzF5b_SOGZ",
        "outputId": "46754a7c-9195-4dea-a20d-4e85a684c1ff"
      },
      "outputs": [
        {
          "name": "stdout",
          "output_type": "stream",
          "text": [
            "(77522, 16, 16)\n",
            "(9684, 16, 16)\n",
            "(9650, 16, 16)\n"
          ]
        }
      ],
      "source": [
        "# Look at tensor dimensions\n",
        "print(x_train.shape)\n",
        "print(x_val.shape)\n",
        "print(x_test.shape)"
      ]
    },
    {
      "cell_type": "code",
      "execution_count": 7,
      "metadata": {
        "colab": {
          "base_uri": "https://localhost:8080/"
        },
        "id": "PHTEEXGuSPp-",
        "outputId": "39b44d21-e86a-4e2f-d8b1-cafae24bac46"
      },
      "outputs": [
        {
          "name": "stdout",
          "output_type": "stream",
          "text": [
            "[18.  5. 11. ... 24.  3. 29.]\n"
          ]
        }
      ],
      "source": [
        "# Peek at labels\n",
        "print(y_val)"
      ]
    },
    {
      "cell_type": "code",
      "execution_count": 8,
      "metadata": {
        "id": "kshwZBAFSSd4"
      },
      "outputs": [],
      "source": [
        "on_word_index = all_targets.index('on')\n",
        "off_word_index = all_targets.index('off')\n",
        "go_word_index = all_targets.index('go')\n",
        "down_word_index = all_targets.index('down')\n",
        "up_word_index = all_targets.index('up')\n",
        "mask_on = y_train==on_word_index\n",
        "mask_off = y_train==off_word_index\n",
        "mask_go = y_train==go_word_index\n",
        "mask_down = y_train==down_word_index\n",
        "mask_up = y_train==up_word_index"
      ]
    },
    {
      "cell_type": "code",
      "execution_count": 9,
      "metadata": {
        "id": "RqRK3kpTSSbV"
      },
      "outputs": [],
      "source": [
        "y_train.fill(0)\n",
        "y_train[mask_on]=1\n",
        "y_train[mask_off]=2\n",
        "y_train[mask_up]=3\n",
        "y_train[mask_down]=4\n",
        "y_train[mask_go]=5"
      ]
    },
    {
      "cell_type": "code",
      "execution_count": 10,
      "metadata": {
        "id": "Gl8kGmZvSSX8"
      },
      "outputs": [],
      "source": [
        "mask_on = y_val==on_word_index\n",
        "mask_off = y_val==off_word_index\n",
        "mask_go = y_val==go_word_index\n",
        "mask_down = y_val==down_word_index\n",
        "mask_up = y_val==up_word_index"
      ]
    },
    {
      "cell_type": "code",
      "execution_count": 11,
      "metadata": {
        "id": "ydJBJPfNSSVE"
      },
      "outputs": [],
      "source": [
        "y_val.fill(0)\n",
        "y_val[mask_on]=1\n",
        "y_val[mask_off]=2\n",
        "y_val[mask_up]=3\n",
        "y_val[mask_down]=4\n",
        "y_val[mask_go]=5"
      ]
    },
    {
      "cell_type": "code",
      "execution_count": 12,
      "metadata": {
        "id": "P40Yc1bZSSR_"
      },
      "outputs": [],
      "source": [
        "mask_on = y_test==on_word_index\n",
        "mask_off = y_test==off_word_index\n",
        "mask_go = y_test==go_word_index\n",
        "mask_down = y_test==down_word_index\n",
        "mask_up = y_test==up_word_index"
      ]
    },
    {
      "cell_type": "code",
      "execution_count": 13,
      "metadata": {
        "id": "pw6kv1PFSSNS"
      },
      "outputs": [],
      "source": [
        "y_test.fill(0)\n",
        "y_test[mask_on]=1\n",
        "y_test[mask_off]=2\n",
        "y_test[mask_up]=3\n",
        "y_test[mask_down]=4\n",
        "y_test[mask_go]=5"
      ]
    },
    {
      "cell_type": "code",
      "execution_count": 14,
      "metadata": {
        "id": "jk7GR_k9TfmF"
      },
      "outputs": [],
      "source": [
        "y_train=y_train.reshape(-1,1)\n",
        "y_val=y_val.reshape(-1,1)\n",
        "y_test=y_test.reshape(-1,1)"
      ]
    },
    {
      "cell_type": "code",
      "execution_count": 15,
      "metadata": {
        "colab": {
          "base_uri": "https://localhost:8080/"
        },
        "id": "nITkp1xhSR5N",
        "outputId": "26784d21-147b-439a-e11c-a9d6ab757c29"
      },
      "outputs": [
        {
          "name": "stdout",
          "output_type": "stream",
          "text": [
            "[[0.]\n",
            " [0.]\n",
            " [0.]\n",
            " ...\n",
            " [0.]\n",
            " [0.]\n",
            " [0.]]\n"
          ]
        }
      ],
      "source": [
        "# Peek at labels after conversion\n",
        "print(y_val)"
      ]
    },
    {
      "cell_type": "code",
      "execution_count": 27,
      "metadata": {
        "colab": {
          "base_uri": "https://localhost:8080/"
        },
        "id": "5a9GFmbaSRjk",
        "outputId": "e13a5848-f722-4005-bfc6-3e2496a461c3"
      },
      "outputs": [
        {
          "name": "stdout",
          "output_type": "stream",
          "text": [
            "(77522, 16, 16)\n"
          ]
        }
      ],
      "source": [
        "# View the dimensions of our input data\n",
        "print(x_train.shape)"
      ]
    },
    {
      "cell_type": "code",
      "execution_count": 16,
      "metadata": {
        "colab": {
          "base_uri": "https://localhost:8080/"
        },
        "id": "p0KlX7-FSg4p",
        "outputId": "5d1b9c8b-1812-42ac-8b8b-c097c9b487d0"
      },
      "outputs": [
        {
          "name": "stdout",
          "output_type": "stream",
          "text": [
            "(77522, 16, 16, 1)\n",
            "(9684, 16, 16, 1)\n",
            "(9650, 16, 16, 1)\n"
          ]
        }
      ],
      "source": [
        "# CNN for TF expects (batch, height, width, channels)\n",
        "# So we reshape the input tensors with a \"color\" channel of 1\n",
        "x_train = x_train.reshape(x_train.shape[0], \n",
        "                          x_train.shape[1], \n",
        "                          x_train.shape[2], \n",
        "                          1)\n",
        "x_val = x_val.reshape(x_val.shape[0], \n",
        "                      x_val.shape[1], \n",
        "                      x_val.shape[2], \n",
        "                      1)\n",
        "x_test = x_test.reshape(x_test.shape[0], \n",
        "                        x_test.shape[1], \n",
        "                        x_test.shape[2], \n",
        "                        1)\n",
        "print(x_train.shape)\n",
        "print(x_val.shape)\n",
        "print(x_test.shape)"
      ]
    },
    {
      "cell_type": "code",
      "execution_count": 17,
      "metadata": {
        "colab": {
          "base_uri": "https://localhost:8080/"
        },
        "id": "EFP2Q2oPSjve",
        "outputId": "43bf3339-33b4-4a6a-a0bd-0e96d14e17c7"
      },
      "outputs": [
        {
          "name": "stdout",
          "output_type": "stream",
          "text": [
            "(16, 16, 1)\n"
          ]
        }
      ],
      "source": [
        "# Input shape for CNN is size of MFCC of 1 sample\n",
        "sample_shape = x_test.shape[1:]\n",
        "print(sample_shape)"
      ]
    },
    {
      "cell_type": "code",
      "execution_count": 18,
      "metadata": {
        "id": "ZqhYr7ezSjsG"
      },
      "outputs": [],
      "source": [
        "model = models.Sequential()"
      ]
    },
    {
      "cell_type": "code",
      "execution_count": 19,
      "metadata": {
        "id": "zZM6CFb9Sjph"
      },
      "outputs": [],
      "source": [
        "# Build model\n",
        "# Based on: https://www.geeksforgeeks.org/python-image-classification-using-keras/\n",
        "# model = models.Sequential()\n",
        "model.add(layers.Conv2D(32, \n",
        "                        (2, 2), \n",
        "                        activation='relu',\n",
        "                        input_shape=sample_shape))\n",
        "model.add(layers.MaxPooling2D(pool_size=(2, 2)))\n",
        "\n",
        "model.add(layers.Conv2D(32, (2, 2), activation='relu'))\n",
        "model.add(layers.MaxPooling2D(pool_size=(2, 2)))\n",
        "\n",
        "model.add(layers.Conv2D(64, (2, 2), activation='relu'))\n",
        "model.add(layers.MaxPooling2D(pool_size=(2, 2)))\n",
        "\n",
        "# Classifier\n",
        "model.add(layers.Flatten())\n",
        "model.add(layers.Dense(64, activation='relu'))\n",
        "model.add(layers.Dropout(0.5))\n",
        "model.add(layers.Dense(6, activation='softmax'))"
      ]
    },
    {
      "cell_type": "code",
      "execution_count": 20,
      "metadata": {
        "colab": {
          "base_uri": "https://localhost:8080/"
        },
        "id": "tweGOD2OTaRF",
        "outputId": "eba21ee2-58eb-4d84-b0f2-faa4f8157634"
      },
      "outputs": [
        {
          "data": {
            "text/plain": [
              "(77522, 16, 16, 1)"
            ]
          },
          "execution_count": 20,
          "metadata": {},
          "output_type": "execute_result"
        }
      ],
      "source": [
        "x_train.shape"
      ]
    },
    {
      "cell_type": "code",
      "execution_count": 21,
      "metadata": {
        "colab": {
          "base_uri": "https://localhost:8080/"
        },
        "id": "H-L2uOgGTGaT",
        "outputId": "752b7225-765f-498f-f4fc-bcf1dbeb9bb1"
      },
      "outputs": [
        {
          "data": {
            "text/plain": [
              "array([[0.],\n",
              "       [0.],\n",
              "       [0.],\n",
              "       ...,\n",
              "       [2.],\n",
              "       [0.],\n",
              "       [4.]])"
            ]
          },
          "execution_count": 21,
          "metadata": {},
          "output_type": "execute_result"
        }
      ],
      "source": [
        "y_train.reshape(-1,1)"
      ]
    },
    {
      "cell_type": "code",
      "execution_count": 22,
      "metadata": {
        "colab": {
          "base_uri": "https://localhost:8080/"
        },
        "id": "H0XReC1PSjm0",
        "outputId": "d4b736da-e736-4a8b-e7f6-b9d56c450551"
      },
      "outputs": [
        {
          "name": "stdout",
          "output_type": "stream",
          "text": [
            "Model: \"sequential\"\n",
            "_________________________________________________________________\n",
            "Layer (type)                 Output Shape              Param #   \n",
            "=================================================================\n",
            "conv2d (Conv2D)              (None, 15, 15, 32)        160       \n",
            "_________________________________________________________________\n",
            "max_pooling2d (MaxPooling2D) (None, 7, 7, 32)          0         \n",
            "_________________________________________________________________\n",
            "conv2d_1 (Conv2D)            (None, 6, 6, 32)          4128      \n",
            "_________________________________________________________________\n",
            "max_pooling2d_1 (MaxPooling2 (None, 3, 3, 32)          0         \n",
            "_________________________________________________________________\n",
            "conv2d_2 (Conv2D)            (None, 2, 2, 64)          8256      \n",
            "_________________________________________________________________\n",
            "max_pooling2d_2 (MaxPooling2 (None, 1, 1, 64)          0         \n",
            "_________________________________________________________________\n",
            "flatten (Flatten)            (None, 64)                0         \n",
            "_________________________________________________________________\n",
            "dense (Dense)                (None, 64)                4160      \n",
            "_________________________________________________________________\n",
            "dropout (Dropout)            (None, 64)                0         \n",
            "_________________________________________________________________\n",
            "dense_1 (Dense)              (None, 6)                 390       \n",
            "=================================================================\n",
            "Total params: 17,094\n",
            "Trainable params: 17,094\n",
            "Non-trainable params: 0\n",
            "_________________________________________________________________\n"
          ]
        }
      ],
      "source": [
        "# Display model\n",
        "model.summary()"
      ]
    },
    {
      "cell_type": "code",
      "execution_count": 23,
      "metadata": {
        "id": "fUPOdYulSjj_"
      },
      "outputs": [],
      "source": [
        "# Add training parameters to model\n",
        "model.compile(loss='sparse_categorical_crossentropy', \n",
        "              optimizer='rmsprop', \n",
        "              metrics=['acc'])"
      ]
    },
    {
      "cell_type": "code",
      "execution_count": 24,
      "metadata": {
        "colab": {
          "base_uri": "https://localhost:8080/"
        },
        "id": "ZRSiW6oIS5_E",
        "outputId": "1ebbeee6-e56b-46c8-b509-adb08c4598d3"
      },
      "outputs": [
        {
          "name": "stdout",
          "output_type": "stream",
          "text": [
            "Epoch 1/30\n",
            "776/776 [==============================] - 8s 9ms/step - loss: 0.4924 - acc: 0.8802 - val_loss: 0.3885 - val_acc: 0.8964\n",
            "Epoch 2/30\n",
            "776/776 [==============================] - 6s 8ms/step - loss: 0.3542 - acc: 0.9000 - val_loss: 0.3461 - val_acc: 0.9076\n",
            "Epoch 3/30\n",
            "776/776 [==============================] - 6s 8ms/step - loss: 0.3003 - acc: 0.9107 - val_loss: 0.3315 - val_acc: 0.8846\n",
            "Epoch 4/30\n",
            "776/776 [==============================] - 6s 8ms/step - loss: 0.2669 - acc: 0.9208 - val_loss: 0.2438 - val_acc: 0.9284\n",
            "Epoch 5/30\n",
            "776/776 [==============================] - 7s 9ms/step - loss: 0.2459 - acc: 0.9264 - val_loss: 0.2296 - val_acc: 0.9334\n",
            "Epoch 6/30\n",
            "776/776 [==============================] - 8s 10ms/step - loss: 0.2342 - acc: 0.9302 - val_loss: 0.2620 - val_acc: 0.9309\n",
            "Epoch 7/30\n",
            "776/776 [==============================] - 7s 9ms/step - loss: 0.2260 - acc: 0.9321 - val_loss: 0.2250 - val_acc: 0.9403\n",
            "Epoch 8/30\n",
            "776/776 [==============================] - 7s 9ms/step - loss: 0.2242 - acc: 0.9331 - val_loss: 0.2162 - val_acc: 0.9395\n",
            "Epoch 9/30\n",
            "776/776 [==============================] - 7s 9ms/step - loss: 0.2248 - acc: 0.9336 - val_loss: 0.2028 - val_acc: 0.9425\n",
            "Epoch 10/30\n",
            "776/776 [==============================] - 7s 9ms/step - loss: 0.2283 - acc: 0.9348 - val_loss: 0.2364 - val_acc: 0.9342\n",
            "Epoch 11/30\n",
            "776/776 [==============================] - 7s 9ms/step - loss: 0.2312 - acc: 0.9335 - val_loss: 0.2234 - val_acc: 0.9313\n",
            "Epoch 12/30\n",
            "776/776 [==============================] - 7s 9ms/step - loss: 0.2321 - acc: 0.9347 - val_loss: 0.2153 - val_acc: 0.9418\n",
            "Epoch 13/30\n",
            "776/776 [==============================] - 7s 9ms/step - loss: 0.2344 - acc: 0.9333 - val_loss: 0.2738 - val_acc: 0.9279\n",
            "Epoch 14/30\n",
            "776/776 [==============================] - 7s 9ms/step - loss: 0.2355 - acc: 0.9340 - val_loss: 0.2774 - val_acc: 0.9142\n",
            "Epoch 15/30\n",
            "776/776 [==============================] - 7s 9ms/step - loss: 0.2356 - acc: 0.9326 - val_loss: 0.2477 - val_acc: 0.9414\n",
            "Epoch 16/30\n",
            "776/776 [==============================] - 7s 9ms/step - loss: 0.2337 - acc: 0.9335 - val_loss: 0.2104 - val_acc: 0.9368\n",
            "Epoch 17/30\n",
            "776/776 [==============================] - 7s 9ms/step - loss: 0.2378 - acc: 0.9334 - val_loss: 0.2401 - val_acc: 0.9275\n",
            "Epoch 18/30\n",
            "776/776 [==============================] - 7s 9ms/step - loss: 0.2394 - acc: 0.9336 - val_loss: 0.2555 - val_acc: 0.9264\n",
            "Epoch 19/30\n",
            "776/776 [==============================] - 7s 9ms/step - loss: 0.2349 - acc: 0.9346 - val_loss: 0.2397 - val_acc: 0.9342\n",
            "Epoch 20/30\n",
            "776/776 [==============================] - 6s 8ms/step - loss: 0.2366 - acc: 0.9341 - val_loss: 0.2553 - val_acc: 0.9314\n",
            "Epoch 21/30\n",
            "776/776 [==============================] - 7s 9ms/step - loss: 0.2362 - acc: 0.9349 - val_loss: 0.2676 - val_acc: 0.9268\n",
            "Epoch 22/30\n",
            "776/776 [==============================] - 7s 9ms/step - loss: 0.2342 - acc: 0.9350 - val_loss: 0.3167 - val_acc: 0.9294\n",
            "Epoch 23/30\n",
            "776/776 [==============================] - 7s 9ms/step - loss: 0.2462 - acc: 0.9344 - val_loss: 0.2356 - val_acc: 0.9319\n",
            "Epoch 24/30\n",
            "776/776 [==============================] - 6s 8ms/step - loss: 0.2377 - acc: 0.9358 - val_loss: 0.2657 - val_acc: 0.9342\n",
            "Epoch 25/30\n",
            "776/776 [==============================] - 7s 8ms/step - loss: 0.2365 - acc: 0.9346 - val_loss: 0.2204 - val_acc: 0.9343\n",
            "Epoch 26/30\n",
            "776/776 [==============================] - 7s 8ms/step - loss: 0.2441 - acc: 0.9351 - val_loss: 0.2887 - val_acc: 0.9230\n",
            "Epoch 27/30\n",
            "776/776 [==============================] - 6s 8ms/step - loss: 0.2411 - acc: 0.9352 - val_loss: 0.2553 - val_acc: 0.9326\n",
            "Epoch 28/30\n",
            "776/776 [==============================] - 7s 9ms/step - loss: 0.2550 - acc: 0.9354 - val_loss: 0.2530 - val_acc: 0.9391\n",
            "Epoch 29/30\n",
            "776/776 [==============================] - 7s 9ms/step - loss: 0.2424 - acc: 0.9353 - val_loss: 0.2308 - val_acc: 0.9325\n",
            "Epoch 30/30\n",
            "776/776 [==============================] - 7s 9ms/step - loss: 0.2676 - acc: 0.9353 - val_loss: 0.3065 - val_acc: 0.9350\n"
          ]
        }
      ],
      "source": [
        "# Train\n",
        "history = model.fit(x_train, \n",
        "                    y_train, \n",
        "                    epochs=30, \n",
        "                    batch_size=100, \n",
        "                    validation_data=(x_val, y_val))"
      ]
    },
    {
      "cell_type": "code",
      "execution_count": 25,
      "metadata": {
        "colab": {
          "base_uri": "https://localhost:8080/",
          "height": 545
        },
        "id": "B-DsEoS1Sjhf",
        "outputId": "a7c63da8-24a2-45ed-f38e-64d25edda798"
      },
      "outputs": [
        {
          "data": {
            "image/png": "[encoded data removed]",
            "text/plain": [
              "<Figure size 432x288 with 1 Axes>"
            ]
          },
          "metadata": {
            "needs_background": "light"
          },
          "output_type": "display_data"
        },
        {
          "data": {
            "image/png": "[encoded data removed]",
            "text/plain": [
              "<Figure size 432x288 with 1 Axes>"
            ]
          },
          "metadata": {
            "needs_background": "light"
          },
          "output_type": "display_data"
        }
      ],
      "source": [
        "# Plot results\n",
        "import matplotlib.pyplot as plt\n",
        "\n",
        "acc = history.history['acc']\n",
        "val_acc = history.history['val_acc']\n",
        "loss = history.history['loss']\n",
        "val_loss = history.history['val_loss']\n",
        "\n",
        "epochs = range(1, len(acc) + 1)\n",
        "\n",
        "plt.plot(epochs, acc, 'bo', label='Training acc')\n",
        "plt.plot(epochs, val_acc, 'b', label='Validation acc')\n",
        "plt.title('Training and validation accuracy')\n",
        "plt.legend()\n",
        "\n",
        "plt.figure()\n",
        "\n",
        "plt.plot(epochs, loss, 'bo', label='Training loss')\n",
        "plt.plot(epochs, val_loss, 'b', label='Validation loss')\n",
        "plt.title('Training and validation loss')\n",
        "plt.legend()\n",
        "\n",
        "plt.show()"
      ]
    },
    {
      "cell_type": "code",
      "execution_count": 26,
      "metadata": {
        "id": "2I-26bJoSjbZ"
      },
      "outputs": [],
      "source": [
        "# Save the model as a file\n",
        "models.save_model(model, model_filename)"
      ]
    },
    {
      "cell_type": "code",
      "execution_count": 27,
      "metadata": {
        "colab": {
          "base_uri": "https://localhost:8080/"
        },
        "id": "Jk_GjZpKSiaE",
        "outputId": "2b0b1d69-47b6-4bd2-82fc-9bf8db2c9400"
      },
      "outputs": [
        {
          "name": "stdout",
          "output_type": "stream",
          "text": [
            " i: 0 Answer: [4.]  Prediction: [[1.8255571e-04 2.3501723e-38 7.3017961e-25 6.2472281e-24 9.9981743e-01\n",
            "  1.0764765e-37]]\n",
            " i: 1 Answer: [0.]  Prediction: [[9.9980921e-01 1.1744083e-06 5.9204311e-05 4.1727421e-06 9.7572040e-05\n",
            "  2.8647113e-05]]\n",
            " i: 2 Answer: [0.]  Prediction: [[9.2462635e-01 3.3218381e-03 7.3209316e-03 7.3706458e-04 1.4579106e-02\n",
            "  4.9414642e-02]]\n",
            " i: 3 Answer: [0.]  Prediction: [[1.0000000e+00 3.4533735e-33 1.0603549e-33 3.1417044e-27 7.5063175e-34\n",
            "  0.0000000e+00]]\n",
            " i: 4 Answer: [5.]  Prediction: [[9.18293837e-04 5.59224605e-26 8.83824353e-17 1.40607032e-36\n",
            "  1.05536354e-26 9.99081731e-01]]\n",
            " i: 5 Answer: [5.]  Prediction: [[1.0471748e-04 3.6174371e-28 3.1211597e-15 1.4418666e-37 2.3966087e-25\n",
            "  9.9989522e-01]]\n",
            " i: 6 Answer: [0.]  Prediction: [[7.3506683e-01 6.1693507e-05 5.7518923e-07 6.5505178e-11 2.8713474e-08\n",
            "  2.6487082e-01]]\n",
            " i: 7 Answer: [0.]  Prediction: [[9.9996686e-01 7.3951861e-07 4.1227809e-06 2.7808621e-05 4.4454026e-07\n",
            "  1.3718644e-08]]\n",
            " i: 8 Answer: [0.]  Prediction: [[9.9959105e-01 9.4712186e-06 1.2627286e-05 7.8195226e-06 3.6276176e-04\n",
            "  1.6274840e-05]]\n",
            " i: 9 Answer: [0.]  Prediction: [[1.0000000e+00 2.4555693e-20 3.6569096e-17 8.0460716e-19 1.0050773e-18\n",
            "  4.6802367e-18]]\n",
            " i: 10 Answer: [0.]  Prediction: [[9.7034061e-01 6.6442371e-05 1.5855797e-04 1.4940169e-06 3.8135364e-05\n",
            "  2.9394804e-02]]\n",
            " i: 11 Answer: [0.]  Prediction: [[1.0000000e+00 1.5736145e-18 3.7247638e-13 4.9916308e-20 7.1839882e-16\n",
            "  2.7103897e-09]]\n",
            " i: 12 Answer: [0.]  Prediction: [[1.0000000e+00 8.7424051e-13 1.5202355e-11 1.4213875e-14 3.2535389e-14\n",
            "  9.8091977e-13]]\n",
            " i: 13 Answer: [0.]  Prediction: [[9.9736780e-01 3.5835248e-05 4.2008172e-04 5.2954292e-05 8.6349144e-05\n",
            "  2.0370190e-03]]\n",
            " i: 14 Answer: [0.]  Prediction: [[9.9836975e-01 6.6775989e-05 3.2478888e-04 2.9237595e-04 7.9114479e-04\n",
            "  1.5518155e-04]]\n",
            " i: 15 Answer: [0.]  Prediction: [[1.0000000e+00 2.2454291e-12 2.7708874e-10 3.7588288e-09 1.0038268e-13\n",
            "  1.8840710e-14]]\n",
            " i: 16 Answer: [0.]  Prediction: [[9.9999285e-01 5.6294778e-07 1.4638229e-06 6.5523545e-07 3.6098111e-06\n",
            "  8.6944607e-07]]\n",
            " i: 17 Answer: [4.]  Prediction: [[6.2471689e-03 2.0235726e-24 1.8728212e-15 2.6963952e-11 9.9375290e-01\n",
            "  7.9791419e-26]]\n",
            " i: 18 Answer: [4.]  Prediction: [[1.8526888e-08 0.0000000e+00 7.7186133e-33 9.4535078e-33 1.0000000e+00\n",
            "  0.0000000e+00]]\n",
            " i: 19 Answer: [0.]  Prediction: [[6.04020894e-01 3.14408603e-11 9.36745650e-08 1.39317785e-14\n",
            "  1.24003927e-08 3.95979077e-01]]\n",
            " i: 20 Answer: [4.]  Prediction: [[2.0522713e-10 0.0000000e+00 0.0000000e+00 0.0000000e+00 1.0000000e+00\n",
            "  0.0000000e+00]]\n",
            " i: 21 Answer: [0.]  Prediction: [[1.0000000e+00 5.1351518e-28 2.3492806e-18 1.1650196e-20 5.7084435e-09\n",
            "  3.4690587e-26]]\n",
            " i: 22 Answer: [0.]  Prediction: [[1.0000000e+00 1.6531738e-15 1.6724877e-16 1.1434529e-22 2.2584494e-22\n",
            "  3.4197001e-12]]\n",
            " i: 23 Answer: [0.]  Prediction: [[2.9105887e-01 2.9665645e-14 2.9739583e-10 3.8442306e-21 3.9369170e-14\n",
            "  7.0894110e-01]]\n",
            " i: 24 Answer: [0.]  Prediction: [[9.9997950e-01 1.4304767e-06 4.6962696e-06 5.2428113e-06 7.9245883e-06\n",
            "  1.2424499e-06]]\n",
            " i: 25 Answer: [0.]  Prediction: [[8.1924152e-01 2.9760084e-05 6.0727686e-04 2.1024258e-03 1.7798984e-01\n",
            "  2.9235507e-05]]\n",
            " i: 26 Answer: [5.]  Prediction: [[4.3608951e-03 6.5303511e-18 9.1632577e-11 3.9544903e-24 3.7461948e-12\n",
            "  9.9563909e-01]]\n",
            " i: 27 Answer: [0.]  Prediction: [[0.8948487  0.00911008 0.01728996 0.02421709 0.05134456 0.00318953]]\n",
            " i: 28 Answer: [0.]  Prediction: [[9.8408830e-01 8.8967005e-04 2.2912084e-03 1.8858003e-03 9.4738984e-03\n",
            "  1.3710536e-03]]\n",
            " i: 29 Answer: [0.]  Prediction: [[7.4592507e-01 6.6787482e-07 2.9742904e-04 1.2479689e-02 2.4129707e-01\n",
            "  7.1261319e-08]]\n",
            " i: 30 Answer: [0.]  Prediction: [[8.6848825e-01 1.8477809e-04 1.1566036e-03 1.7009599e-02 1.1310666e-01\n",
            "  5.4153599e-05]]\n",
            " i: 31 Answer: [0.]  Prediction: [[9.9994910e-01 4.7769834e-07 2.3076975e-05 4.7496528e-06 1.5772199e-05\n",
            "  6.7879901e-06]]\n",
            " i: 32 Answer: [0.]  Prediction: [[9.9178618e-01 1.2756944e-04 1.7787241e-03 2.1275072e-04 3.8737915e-03\n",
            "  2.2209806e-03]]\n",
            " i: 33 Answer: [0.]  Prediction: [[0.88813496 0.00533032 0.02062693 0.0056502  0.07079003 0.00946762]]\n",
            " i: 34 Answer: [0.]  Prediction: [[9.7461718e-01 1.1697261e-03 6.8946555e-04 4.4992295e-05 2.0312173e-03\n",
            "  2.1447446e-02]]\n",
            " i: 35 Answer: [4.]  Prediction: [[1.5727423e-13 0.0000000e+00 0.0000000e+00 0.0000000e+00 1.0000000e+00\n",
            "  0.0000000e+00]]\n",
            " i: 36 Answer: [0.]  Prediction: [[0.8743887  0.02125179 0.01897614 0.00788855 0.03469977 0.04279508]]\n",
            " i: 37 Answer: [0.]  Prediction: [[8.67939830e-01 4.74445187e-02 6.78239332e-04 1.01055826e-04\n",
            "  7.20392563e-04 8.31160322e-02]]\n",
            " i: 38 Answer: [0.]  Prediction: [[9.9998367e-01 5.2818444e-07 5.0690546e-06 4.2268075e-06 6.1587430e-06\n",
            "  2.5355232e-07]]\n",
            " i: 39 Answer: [0.]  Prediction: [[0.9370107  0.00487377 0.00738331 0.00727637 0.03548644 0.00796949]]\n",
            " i: 40 Answer: [4.]  Prediction: [[3.4780547e-01 1.8737359e-13 7.5306644e-08 1.1101505e-06 6.5219337e-01\n",
            "  2.7820403e-13]]\n",
            " i: 41 Answer: [0.]  Prediction: [[9.9967563e-01 7.8173125e-06 1.2206964e-04 1.9830202e-05 5.1444851e-05\n",
            "  1.2328391e-04]]\n",
            " i: 42 Answer: [0.]  Prediction: [[1.0000000e+00 1.9438544e-15 3.1368439e-11 2.4479308e-18 1.9856295e-15\n",
            "  1.7322390e-09]]\n",
            " i: 43 Answer: [0.]  Prediction: [[9.9988675e-01 2.9229190e-07 4.9539773e-05 5.9795650e-05 2.7088777e-06\n",
            "  8.6091603e-07]]\n",
            " i: 44 Answer: [0.]  Prediction: [[9.7731709e-01 3.7623217e-04 1.4261621e-03 1.2684372e-04 3.8667207e-04\n",
            "  2.0366957e-02]]\n",
            " i: 45 Answer: [0.]  Prediction: [[9.9992621e-01 1.2351430e-06 3.0663155e-05 7.8807579e-06 4.5354363e-06\n",
            "  2.9497101e-05]]\n",
            " i: 46 Answer: [0.]  Prediction: [[9.6663320e-01 2.1339035e-04 2.8928649e-02 2.4270096e-03 2.2699084e-04\n",
            "  1.5707251e-03]]\n",
            " i: 47 Answer: [0.]  Prediction: [[9.3609852e-01 2.7275372e-02 6.0935313e-04 1.5297520e-04 2.7624518e-04\n",
            "  3.5587542e-02]]\n",
            " i: 48 Answer: [0.]  Prediction: [[1. 0. 0. 0. 0. 0.]]\n",
            " i: 49 Answer: [0.]  Prediction: [[1.0000000e+00 4.8355465e-12 2.7966266e-11 2.1873571e-11 1.8753963e-12\n",
            "  4.6778902e-14]]\n",
            " i: 50 Answer: [4.]  Prediction: [[2.5984219e-08 0.0000000e+00 1.4806098e-34 3.2604150e-37 1.0000000e+00\n",
            "  0.0000000e+00]]\n",
            " i: 51 Answer: [0.]  Prediction: [[0.88040316 0.02116657 0.00744311 0.00201677 0.00494131 0.08402909]]\n",
            " i: 52 Answer: [0.]  Prediction: [[0.85897756 0.02432644 0.02624469 0.01048235 0.03151566 0.04845327]]\n",
            " i: 53 Answer: [0.]  Prediction: [[9.2660642e-01 2.1634937e-06 1.2828267e-04 7.4954971e-04 7.2510108e-02\n",
            "  3.5395974e-06]]\n",
            " i: 54 Answer: [4.]  Prediction: [[5.8940388e-02 1.8800943e-21 2.7453105e-14 1.3353692e-11 9.4105959e-01\n",
            "  1.5893992e-23]]\n",
            " i: 55 Answer: [0.]  Prediction: [[9.4232392e-01 4.6230141e-02 1.1431637e-03 7.5041532e-04 2.4545128e-03\n",
            "  7.0978818e-03]]\n",
            " i: 56 Answer: [0.]  Prediction: [[0.88508254 0.01669126 0.01813518 0.00703398 0.02423413 0.04882292]]\n",
            " i: 57 Answer: [0.]  Prediction: [[0.93500125 0.00429619 0.03639419 0.00955667 0.00599831 0.00875329]]\n",
            " i: 58 Answer: [0.]  Prediction: [[9.36215699e-01 1.92672783e-03 1.45683310e-03 4.47137244e-02\n",
            "  1.55752655e-02 1.11796398e-04]]\n",
            " i: 59 Answer: [0.]  Prediction: [[4.8149931e-01 5.1740283e-01 2.8968416e-05 8.9529640e-04 2.7345206e-05\n",
            "  1.4625357e-04]]\n",
            " i: 60 Answer: [0.]  Prediction: [[0.94071597 0.00767041 0.00993997 0.01376729 0.02201023 0.00589617]]\n",
            " i: 61 Answer: [0.]  Prediction: [[9.4130552e-01 8.8788546e-04 1.2481026e-03 5.2926322e-03 5.1063545e-02\n",
            "  2.0221356e-04]]\n",
            " i: 62 Answer: [3.]  Prediction: [[8.4369189e-01 6.0226510e-05 8.7461708e-04 2.6396392e-02 1.2896588e-01\n",
            "  1.1036747e-05]]\n",
            " i: 63 Answer: [0.]  Prediction: [[9.9805295e-01 1.1870558e-03 4.4734508e-05 6.4548338e-04 4.7958489e-05\n",
            "  2.1840253e-05]]\n",
            " i: 64 Answer: [0.]  Prediction: [[1.0000000e+00 2.3336925e-12 4.5823699e-16 1.0818560e-15 1.5546822e-18\n",
            "  9.5155900e-19]]\n",
            " i: 65 Answer: [0.]  Prediction: [[1.0000000e+00 8.6445098e-24 1.1821827e-22 5.6630579e-28 4.2231262e-28\n",
            "  9.4056837e-22]]\n",
            " i: 66 Answer: [0.]  Prediction: [[9.7748291e-01 4.7034200e-04 6.3097556e-03 1.4638436e-02 1.0129632e-03\n",
            "  8.5683787e-05]]\n",
            " i: 67 Answer: [1.]  Prediction: [[4.5313962e-05 9.9995470e-01 1.6679759e-18 2.2295680e-15 2.8984964e-19\n",
            "  7.6407657e-14]]\n",
            " i: 68 Answer: [0.]  Prediction: [[9.1396815e-01 9.9950557e-05 1.0779779e-03 4.1414080e-03 8.0628641e-02\n",
            "  8.3862265e-05]]\n",
            " i: 69 Answer: [0.]  Prediction: [[0.9408268  0.00823168 0.01187146 0.01357514 0.01732221 0.00817282]]\n",
            " i: 70 Answer: [0.]  Prediction: [[4.1317198e-01 5.8667266e-01 2.6426978e-08 1.5516831e-04 9.2579695e-09\n",
            "  7.6829735e-08]]\n",
            " i: 71 Answer: [4.]  Prediction: [[6.4524976e-08 0.0000000e+00 5.4026164e-27 1.2327804e-34 9.9999988e-01\n",
            "  8.1720857e-28]]\n",
            " i: 72 Answer: [0.]  Prediction: [[0.9147354  0.00243947 0.00808211 0.01045173 0.06189344 0.00239796]]\n",
            " i: 73 Answer: [0.]  Prediction: [[8.4313035e-01 4.6083314e-06 2.3123271e-04 9.9179370e-04 1.5563712e-01\n",
            "  4.8363431e-06]]\n",
            " i: 74 Answer: [0.]  Prediction: [[9.3894500e-01 1.2806457e-03 9.8183728e-04 3.2864846e-02 2.5845937e-02\n",
            "  8.1755141e-05]]\n",
            " i: 75 Answer: [0.]  Prediction: [[9.8095912e-01 8.2615274e-04 2.8479488e-03 1.3637925e-03 1.1170152e-02\n",
            "  2.8329024e-03]]\n",
            " i: 76 Answer: [0.]  Prediction: [[9.2912221e-01 1.0394888e-05 2.4895230e-04 6.8647723e-04 6.9918551e-02\n",
            "  1.3350889e-05]]\n",
            " i: 77 Answer: [0.]  Prediction: [[9.99876618e-01 9.68620152e-05 3.65686219e-06 1.41163755e-05\n",
            "  1.08945494e-06 7.66577432e-06]]\n",
            " i: 78 Answer: [3.]  Prediction: [[8.4264344e-01 2.4406507e-03 5.2848882e-03 8.7689765e-02 6.1601933e-02\n",
            "  3.3931949e-04]]\n",
            " i: 79 Answer: [0.]  Prediction: [[8.6613953e-01 3.3327393e-07 5.3511332e-05 1.6439417e-04 1.3364184e-01\n",
            "  4.2727081e-07]]\n",
            " i: 80 Answer: [0.]  Prediction: [[9.9785608e-01 1.5619353e-05 5.1816838e-04 3.6995854e-05 1.1596436e-03\n",
            "  4.1353217e-04]]\n",
            " i: 81 Answer: [0.]  Prediction: [[8.0057079e-01 2.8907005e-05 5.8486807e-04 2.3907524e-02 1.7490309e-01\n",
            "  4.8630404e-06]]\n",
            " i: 82 Answer: [0.]  Prediction: [[7.8253400e-01 1.5727643e-07 4.4153461e-05 2.4542512e-04 2.1717605e-01\n",
            "  2.4228180e-07]]\n",
            " i: 83 Answer: [0.]  Prediction: [[8.9221847e-01 1.6242569e-05 3.9295366e-04 1.7099793e-03 1.0563613e-01\n",
            "  2.6150345e-05]]\n",
            " i: 84 Answer: [0.]  Prediction: [[0.9513539  0.00385051 0.00701852 0.00153847 0.01244019 0.02379839]]\n",
            " i: 85 Answer: [0.]  Prediction: [[1.0000000e+00 7.5302656e-19 3.5894869e-19 8.3170488e-18 1.2273544e-22\n",
            "  5.8524966e-23]]\n",
            " i: 86 Answer: [0.]  Prediction: [[9.9384898e-01 7.5924263e-04 7.0806872e-04 3.6677378e-04 1.4465885e-03\n",
            "  2.8703872e-03]]\n",
            " i: 87 Answer: [0.]  Prediction: [[9.8004019e-01 5.9847295e-04 1.9019085e-03 2.5468471e-04 6.7734683e-04\n",
            "  1.6527418e-02]]\n",
            " i: 88 Answer: [0.]  Prediction: [[9.9671835e-01 9.1445299e-06 2.3908168e-03 1.2573849e-05 2.5331123e-05\n",
            "  8.4374979e-04]]\n",
            " i: 89 Answer: [0.]  Prediction: [[9.9821126e-01 1.1119799e-03 3.8725764e-05 5.0568621e-04 1.0101531e-04\n",
            "  3.1427066e-05]]\n",
            " i: 90 Answer: [0.]  Prediction: [[9.9798125e-01 7.7714058e-06 4.8387563e-05 1.4954044e-03 4.3055037e-04\n",
            "  3.6683119e-05]]\n",
            " i: 91 Answer: [0.]  Prediction: [[9.86349225e-01 1.00520956e-04 5.52133890e-04 1.15949486e-03\n",
            "  1.17468014e-02 9.17704456e-05]]\n",
            " i: 92 Answer: [0.]  Prediction: [[9.9997687e-01 8.5610719e-09 1.7376709e-05 2.9642970e-06 2.0211721e-06\n",
            "  7.3436530e-07]]\n",
            " i: 93 Answer: [3.]  Prediction: [[7.8738272e-01 6.7699359e-05 1.2657401e-04 2.0570371e-01 6.7189084e-03\n",
            "  3.5162785e-07]]\n",
            " i: 94 Answer: [0.]  Prediction: [[9.5794547e-01 2.3658274e-02 3.4027421e-04 1.1304936e-04 2.3623112e-04\n",
            "  1.7706644e-02]]\n",
            " i: 95 Answer: [0.]  Prediction: [[9.5780373e-01 9.0965570e-04 3.2233584e-03 3.0934089e-04 1.8387550e-03\n",
            "  3.5915121e-02]]\n",
            " i: 96 Answer: [0.]  Prediction: [[9.80584025e-01 1.47579791e-04 9.60979203e-04 3.58508970e-03\n",
            "  1.46151800e-02 1.07159845e-04]]\n",
            " i: 97 Answer: [0.]  Prediction: [[7.7350277e-01 1.6192742e-07 4.5909972e-05 3.7740174e-04 2.2607359e-01\n",
            "  9.3248893e-08]]\n",
            " i: 98 Answer: [0.]  Prediction: [[9.6262723e-01 1.4278684e-06 6.8408874e-05 3.9515388e-04 3.6906928e-02\n",
            "  8.4763309e-07]]\n",
            " i: 99 Answer: [0.]  Prediction: [[9.0291369e-01 5.9212577e-02 9.6047216e-04 3.0679538e-04 9.6517708e-04\n",
            "  3.5641316e-02]]\n",
            " i: 100 Answer: [0.]  Prediction: [[9.2763460e-01 8.5249403e-03 2.1310907e-03 5.7922391e-04 4.1600843e-03\n",
            "  5.6970168e-02]]\n",
            " i: 101 Answer: [0.]  Prediction: [[9.8377454e-01 1.0511994e-03 1.9042069e-03 7.0115918e-04 8.6826365e-03\n",
            "  3.8863013e-03]]\n",
            " i: 102 Answer: [1.]  Prediction: [[1.9872992e-05 9.9998009e-01 2.1415388e-20 5.4437105e-15 1.6399395e-21\n",
            "  1.2215558e-16]]\n",
            " i: 103 Answer: [0.]  Prediction: [[1.2211308e-02 3.8696326e-19 5.2745669e-10 1.1097990e-25 1.0057803e-17\n",
            "  9.8778874e-01]]\n",
            " i: 104 Answer: [3.]  Prediction: [[9.2109174e-01 1.9316625e-02 2.5843324e-03 5.0495371e-02 5.9907176e-03\n",
            "  5.2128505e-04]]\n",
            " i: 105 Answer: [0.]  Prediction: [[1.0000000e+00 1.8374748e-12 1.9819944e-10 2.6795356e-11 5.3949974e-12\n",
            "  1.4128282e-13]]\n",
            " i: 106 Answer: [0.]  Prediction: [[0.7949885  0.1308598  0.00868625 0.00806263 0.0061001  0.05130279]]\n",
            " i: 107 Answer: [0.]  Prediction: [[1.0000000e+00 1.6406438e-26 2.3931008e-21 2.1820185e-23 4.9297628e-23\n",
            "  1.0000239e-28]]\n",
            " i: 108 Answer: [0.]  Prediction: [[0.89980495 0.07761873 0.00240053 0.0154206  0.00134597 0.00340926]]\n",
            " i: 109 Answer: [0.]  Prediction: [[9.9607348e-01 8.2819064e-08 3.8124742e-03 4.9086884e-06 1.6593829e-07\n",
            "  1.0894811e-04]]\n"
          ]
        }
      ],
      "source": [
        "for i in range(0, 110):\n",
        "   print(' i:',i, 'Answer:', y_test[i], ' Prediction:', model.predict(np.expand_dims(x_test[i], 0)))"
      ]
    },
    {
      "cell_type": "code",
      "execution_count": null,
      "metadata": {},
      "outputs": [],
      "source": []
    }
  ],
  "metadata": {
    "accelerator": "GPU",
    "colab": {
      "name": "Speech_model_training.ipynb",
      "provenance": [],
      "toc_visible": true
    },
    "kernelspec": {
      "display_name": "Python 3.9.7 64-bit",
      "language": "python",
      "name": "python3"
    },
    "language_info": {
      "codemirror_mode": {
        "name": "ipython",
        "version": 3
      },
      "file_extension": ".py",
      "mimetype": "text/x-python",
      "name": "python",
      "nbconvert_exporter": "python",
      "pygments_lexer": "ipython3",
      "version": "3.9.7"
    },
    "vscode": {
      "interpreter": {
        "hash": "25034407fed5d681614dac11a1c0537e8cb49e3a8883c071303eea01322943d9"
      }
    }
  },
  "nbformat": 4,
  "nbformat_minor": 0
}
